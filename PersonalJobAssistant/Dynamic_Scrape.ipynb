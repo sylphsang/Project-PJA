{
 "cells": [
  {
   "cell_type": "code",
   "execution_count": 1,
   "metadata": {
    "collapsed": true
   },
   "outputs": [],
   "source": [
    "from selenium.webdriver.support.ui import WebDriverWait\n",
    "from selenium import webdriver\n",
    "from selenium.webdriver.common.by import By\n",
    "from selenium.webdriver.support import expected_conditions as EC\n",
    "from selenium.webdriver.common.keys import Keys\n",
    "from bs4 import BeautifulSoup"
   ]
  },
  {
   "cell_type": "code",
   "execution_count": 3,
   "metadata": {
    "collapsed": true
   },
   "outputs": [],
   "source": [
    "class Scrape_html(object):\n",
    "    \n",
    "    def __init__(self):\n",
    "        try:\n",
    "            self.driver = webdriver.Firefox()\n",
    "        except Exception as e:\n",
    "            print(e)\n",
    "        \n",
    "    \n",
    "    def get_html(self,url,name,keyword):\n",
    "        driver = self.driver\n",
    "        try:\n",
    "            driver.get(url)\n",
    "            search = driver.find_element_by_name(name)\n",
    "            WebDriverWait(driver, 50).until(\n",
    "            EC.visibility_of_element_located((By.NAME, name)))\n",
    "            search.send_keys(keyword)\n",
    "            search.submit()\n",
    "            WebDriverWait(driver, 20).until(\n",
    "            EC.url_changes(url)) \n",
    "            #search.send_keys(Keys.RETURN)\n",
    "            #driver.forward()\n",
    "            html_page = driver.page_source\n",
    "        except Exception as e:\n",
    "            print(e)\n",
    "        return (html_page)\n",
    "    \n",
    "    def end_session(self):\n",
    "        self.driver.quit()\n",
    "    \n",
    "        "
   ]
  },
  {
   "cell_type": "code",
   "execution_count": null,
   "metadata": {
    "collapsed": true
   },
   "outputs": [],
   "source": []
  }
 ],
 "metadata": {
  "kernelspec": {
   "display_name": "Python 2",
   "language": "python",
   "name": "python2"
  },
  "language_info": {
   "codemirror_mode": {
    "name": "ipython",
    "version": 2
   },
   "file_extension": ".py",
   "mimetype": "text/x-python",
   "name": "python",
   "nbconvert_exporter": "python",
   "pygments_lexer": "ipython2",
   "version": "2.7.14"
  }
 },
 "nbformat": 4,
 "nbformat_minor": 2
}
