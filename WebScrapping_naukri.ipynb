{
 "cells": [
  {
   "cell_type": "code",
   "execution_count": 6,
   "metadata": {},
   "outputs": [],
   "source": [
    "import urllib2\n",
    "import urllib\n",
    "import pandas as pd\n",
    "from bs4 import BeautifulSoup\n",
    "from collections import OrderedDict\n",
    "import time"
   ]
  },
  {
   "cell_type": "code",
   "execution_count": 7,
   "metadata": {
    "collapsed": true
   },
   "outputs": [],
   "source": [
    "#specify the url\n",
    "base_url = 'https://www.naukri.com/c-jobs'"
   ]
  },
  {
   "cell_type": "code",
   "execution_count": 10,
   "metadata": {},
   "outputs": [
    {
     "ename": "AttributeError",
     "evalue": "'module' object has no attribute 'Request'",
     "output_type": "error",
     "traceback": [
      "\u001b[1;31m---------------------------------------------------------------------------\u001b[0m",
      "\u001b[1;31mAttributeError\u001b[0m                            Traceback (most recent call last)",
      "\u001b[1;32m<ipython-input-10-a4d44dd0a8dc>\u001b[0m in \u001b[0;36m<module>\u001b[1;34m()\u001b[0m\n\u001b[0;32m      1\u001b[0m \u001b[1;33m\u001b[0m\u001b[0m\n\u001b[1;32m----> 2\u001b[1;33m \u001b[0mreq\u001b[0m \u001b[1;33m=\u001b[0m \u001b[0murllib\u001b[0m\u001b[1;33m.\u001b[0m\u001b[0mRequest\u001b[0m\u001b[1;33m(\u001b[0m\u001b[0mbase_url\u001b[0m\u001b[1;33m,\u001b[0m \u001b[0mheaders\u001b[0m\u001b[1;33m=\u001b[0m\u001b[1;33m{\u001b[0m\u001b[1;34m'User-Agent'\u001b[0m \u001b[1;33m:\u001b[0m \u001b[1;34m\"Magic Browser\"\u001b[0m\u001b[1;33m}\u001b[0m\u001b[1;33m)\u001b[0m\u001b[1;33m\u001b[0m\u001b[0m\n\u001b[0m\u001b[0;32m      3\u001b[0m \u001b[0msource\u001b[0m \u001b[1;33m=\u001b[0m \u001b[0murllib\u001b[0m\u001b[1;33m.\u001b[0m\u001b[0murlopen\u001b[0m\u001b[1;33m(\u001b[0m \u001b[0mreq\u001b[0m \u001b[1;33m)\u001b[0m\u001b[1;33m.\u001b[0m\u001b[0mread\u001b[0m\u001b[1;33m(\u001b[0m\u001b[1;33m)\u001b[0m\u001b[1;33m\u001b[0m\u001b[0m\n",
      "\u001b[1;31mAttributeError\u001b[0m: 'module' object has no attribute 'Request'"
     ]
    }
   ],
   "source": [
    "\n",
    "req = urllib.Request(base_url, headers={'User-Agent' : \"Magic Browser\"}) \n",
    "source = urllib.urlopen( req ).read()\n"
   ]
  },
  {
   "cell_type": "code",
   "execution_count": 5,
   "metadata": {
    "collapsed": true
   },
   "outputs": [],
   "source": [
    "soup= BeautifulSoup(source,'html.parser')  # use lxml to remove the warning which is markuptype"
   ]
  },
  {
   "cell_type": "code",
   "execution_count": 6,
   "metadata": {},
   "outputs": [
    {
     "ename": "SyntaxError",
     "evalue": "invalid syntax (<ipython-input-6-df26e0f5c8a7>, line 1)",
     "output_type": "error",
     "traceback": [
      "\u001b[1;36m  File \u001b[1;32m\"<ipython-input-6-df26e0f5c8a7>\"\u001b[1;36m, line \u001b[1;32m1\u001b[0m\n\u001b[1;33m    print soup.prettify()\u001b[0m\n\u001b[1;37m             ^\u001b[0m\n\u001b[1;31mSyntaxError\u001b[0m\u001b[1;31m:\u001b[0m invalid syntax\n"
     ]
    }
   ],
   "source": [
    "#print soup.prettify()\n"
   ]
  },
  {
   "cell_type": "code",
   "execution_count": 7,
   "metadata": {
    "collapsed": true
   },
   "outputs": [],
   "source": [
    "\n",
    "#search div tag for class count to get the total number number of jobs  for eg. 1-50 of 44661 and split\n",
    "#the number of jobs and number of pages from there \n",
    "num_jobs = int(soup.find(\"div\", { \"class\" : \"count\" }).h1.contents[1].getText().split(' ')[-1])\n"
   ]
  },
  {
   "cell_type": "code",
   "execution_count": 10,
   "metadata": {},
   "outputs": [
    {
     "name": "stdout",
     "output_type": "stream",
     "text": [
      "Total Number of jobs  :43924\n"
     ]
    }
   ],
   "source": [
    "print ('Total Number of jobs  :{}'.format(num_jobs))"
   ]
  },
  {
   "cell_type": "code",
   "execution_count": 11,
   "metadata": {},
   "outputs": [
    {
     "data": {
      "text/plain": [
       "879"
      ]
     },
     "execution_count": 11,
     "metadata": {},
     "output_type": "execute_result"
    }
   ],
   "source": [
    "#extract number of pages as 50 job per page \n",
    "import math\n",
    "#number of pages\n",
    "num_pages = int(math.ceil(num_jobs/50.0))\n",
    "#print total number of page\n",
    "num_pages"
   ]
  },
  {
   "cell_type": "code",
   "execution_count": 12,
   "metadata": {
    "collapsed": true
   },
   "outputs": [],
   "source": [
    "\n",
    "labels = ['Salary', 'Industry', 'Functional Area', 'Role Category', 'Role','Employment Type']"
   ]
  },
  {
   "cell_type": "code",
   "execution_count": 13,
   "metadata": {
    "collapsed": true
   },
   "outputs": [],
   "source": [
    "edu_labels = ['UG', 'PG', 'Doctorate']"
   ]
  },
  {
   "cell_type": "code",
   "execution_count": 29,
   "metadata": {
    "collapsed": true
   },
   "outputs": [],
   "source": [
    "\n",
    "naukri_df = pd.DataFrame()#create a dataframe to fill it later"
   ]
  },
  {
   "cell_type": "code",
   "execution_count": 30,
   "metadata": {
    "collapsed": true
   },
   "outputs": [],
   "source": [
    "#parse the job data \n",
    "\n",
    "def parseJobData(jd_soup):\n",
    "   \n",
    "    try:\n",
    "        #job descripttion\n",
    "        jd_text = jd_soup.find(\"ul\",{\"itemprop\":\"description\"}).getText().strip()\n",
    "            \n",
    "        #job location\n",
    "        location = jd_soup.find(\"div\",{\"class\":\"loc\"}).getText().strip()\n",
    "            \n",
    "        # Experience\n",
    "        experience = jd_soup.find(\"span\",{\"itemprop\":\"experienceRequirements\"}).getText().strip()\n",
    "            \n",
    "        role_info = [content.getText().split(':')[-1].strip() for content in jd_soup.find(\"div\",{\"class\":\"jDisc mt20\"}).contents if len(str(content).replace(' ',''))!=0]\n",
    "        role_info_dict = {label: role_info for label, role_info in zip(labels, role_info)}\n",
    "            \n",
    "        #key Skills\n",
    "        key_skills = '|'.join(jd_soup.find(\"div\",{\"class\":\"ksTags\"}).getText().split('  '))[1:]\n",
    "\n",
    "        #edu_info\n",
    "        edu_info = [content.getText().split(':') for content in jd_soup.find(\"div\",{\"itemprop\":\"educationRequirements\"}).contents if len(str(content).replace(' ',''))!=0]\n",
    "           \n",
    "        \n",
    "       # print(edu_info)\n",
    "            \n",
    "        edu_info_dict = {label.strip(): edu_info.strip() for label, edu_info in edu_info}\n",
    "        for l in edu_labels:\n",
    "            if l not in edu_info_dict.keys():\n",
    "                edu_info_dict[l] = ''\n",
    "\n",
    "        company_name = jd_soup.find(\"div\",{\"itemprop\":\"hiringOrganization\"}).contents[1].p.getText().strip()\n",
    "    except AttributeError:\n",
    "        return -1\n",
    "    df_dict = OrderedDict({'Location':location, 'Link':url,'Job Description':jd_text,'Experience':experience,'Skills':key_skills,'Company Name':company_name})\n",
    "    df_dict.update(role_info_dict)\n",
    "    df_dict.update(edu_info_dict)  \n",
    "    time.sleep(1)\n",
    "    return df_dict\n",
    "        "
   ]
  },
  {
   "cell_type": "markdown",
   "metadata": {},
   "source": [
    "#### As of now trying to retrieve the data from one page later increase"
   ]
  },
  {
   "cell_type": "code",
   "execution_count": 31,
   "metadata": {},
   "outputs": [
    {
     "name": "stdout",
     "output_type": "stream",
     "text": [
      "1\n",
      "2\n",
      "3\n",
      "4\n",
      "5\n",
      "6\n",
      "7\n",
      "8\n",
      "9\n"
     ]
    }
   ],
   "source": [
    "#https://www.naukri.com/c-jobs retrieve page wise data\n",
    "#\n",
    "for page in range(1,10): #replace  ith numpages+1 \n",
    "    page_url = base_url+str(page)\n",
    "    req = urllib.request.Request(page_url, headers={'User-Agent' : \"Magic Browser\"}) \n",
    "    source = urllib.request.urlopen( req ).read()\n",
    "    soup = BeautifulSoup(source,\"html.parser\")\n",
    "    \n",
    "\n",
    "    #job listing example as all the job listing link start with a and then further prefix by job-listings\n",
    "    #<a class=\"content\" count=\"4\" href=\"https://www.naukri.com/job-listings-Network-Engineer-C-c-Civil-Maps-Hyderabad-4-to-9-years-191217901277?\n",
    "    # src=jobsearchDesk&amp;sid=15137324767867&amp;xp=4&amp;px=1\" target=\"_blank\">\n",
    "    \n",
    "  \n",
    "    all_links = [link.get('href') for link in soup.findAll('a') if 'job-listings' in  str(link.get('href'))]\n",
    "    \n",
    "    #print all_links\n",
    "    \n",
    "    #for all the link retrieve the data \n",
    "    \n",
    "    for url in all_links:\n",
    "        \n",
    "        req = urllib.request.Request(url, headers={'User-Agent' : \"Magic Browser\"})\n",
    "        \n",
    "        #job descrption data open the link in the browser\n",
    "        jd_source = urllib.request.urlopen(req).read()\n",
    "        \n",
    "        jd_soup = BeautifulSoup(jd_source,\"html.parser\")\n",
    "        \n",
    "        #parse job data\n",
    "        if(parseJobData(jd_soup)==-1):\n",
    "            continue\n",
    "        else:\n",
    "            naukri_df = naukri_df.append(parseJobData(jd_soup),ignore_index=True)   \n",
    "            \n",
    "      \n",
    "    \n",
    "    print(page)"
   ]
  },
  {
   "cell_type": "code",
   "execution_count": 32,
   "metadata": {},
   "outputs": [
    {
     "data": {
      "text/html": [
       "<div>\n",
       "<style>\n",
       "    .dataframe thead tr:only-child th {\n",
       "        text-align: right;\n",
       "    }\n",
       "\n",
       "    .dataframe thead th {\n",
       "        text-align: left;\n",
       "    }\n",
       "\n",
       "    .dataframe tbody tr th {\n",
       "        vertical-align: top;\n",
       "    }\n",
       "</style>\n",
       "<table border=\"1\" class=\"dataframe\">\n",
       "  <thead>\n",
       "    <tr style=\"text-align: right;\">\n",
       "      <th></th>\n",
       "      <th>Company Name</th>\n",
       "      <th>Doctorate</th>\n",
       "      <th>Employment Type</th>\n",
       "      <th>Experience</th>\n",
       "      <th>Functional Area</th>\n",
       "      <th>Industry</th>\n",
       "      <th>Job Description</th>\n",
       "      <th>Link</th>\n",
       "      <th>Location</th>\n",
       "      <th>PG</th>\n",
       "      <th>Role</th>\n",
       "      <th>Role Category</th>\n",
       "      <th>Salary</th>\n",
       "      <th>Skills</th>\n",
       "      <th>UG</th>\n",
       "    </tr>\n",
       "  </thead>\n",
       "  <tbody>\n",
       "    <tr>\n",
       "      <th>0</th>\n",
       "      <td>Sukhvarsha Management Services Pvt. Ltd.</td>\n",
       "      <td>Doctorate Not Required</td>\n",
       "      <td>Permanent Job, Full Time</td>\n",
       "      <td>2 - 4 yrs</td>\n",
       "      <td>Medical   ,     Healthcare   ,     R&amp;D   ,    ...</td>\n",
       "      <td>Medical  /    Healthcare  /    Hospitals</td>\n",
       "      <td>Experience: 2 + years of Experience mandate  C...</td>\n",
       "      <td>https://www.naukri.com/job-listings-Opening-fo...</td>\n",
       "      <td>Bengaluru,    Hyderabad</td>\n",
       "      <td>Any Postgraduate - Any Specialization</td>\n",
       "      <td>Medical Officer</td>\n",
       "      <td>Medical Professional</td>\n",
       "      <td>INR  3,00,000 - 5,00,000 P.A.</td>\n",
       "      <td>Medical Coder Trainee|Medical Coding Executive...</td>\n",
       "      <td>Any Graduate - Any Specialization</td>\n",
       "    </tr>\n",
       "    <tr>\n",
       "      <th>1</th>\n",
       "      <td>Tyfone Communications Development (India) Pvt....</td>\n",
       "      <td>Doctorate Not Required</td>\n",
       "      <td>Permanent Job, Full Time</td>\n",
       "      <td>7 - 9 yrs</td>\n",
       "      <td>IT Software - Mobile</td>\n",
       "      <td>IT-Software  /    Software Services</td>\n",
       "      <td>Job Description  :   1. Develop and maintain T...</td>\n",
       "      <td>https://www.naukri.com/job-listings-IOS-Develo...</td>\n",
       "      <td>Bengaluru</td>\n",
       "      <td>M.Tech - Computers, MCA - Computers, MS/M.Sc(S...</td>\n",
       "      <td>Software Developer</td>\n",
       "      <td>Programming &amp; Design</td>\n",
       "      <td>Not Disclosed by Recruiter</td>\n",
       "      <td>Objective C|XCode|IPad|Ios Development|IPhone|...</td>\n",
       "      <td>B.Tech/B.E. - Computers</td>\n",
       "    </tr>\n",
       "    <tr>\n",
       "      <th>2</th>\n",
       "      <td>Sukhvarsha Management Services Pvt. Ltd.</td>\n",
       "      <td>Doctorate Not Required</td>\n",
       "      <td>Permanent Job, Full Time</td>\n",
       "      <td>2 - 4 yrs</td>\n",
       "      <td>Medical   ,     Healthcare   ,     R&amp;D   ,    ...</td>\n",
       "      <td>Medical  /    Healthcare  /    Hospitals</td>\n",
       "      <td>Experience: 2 + years of Experience mandate  C...</td>\n",
       "      <td>https://www.naukri.com/job-listings-Opening-fo...</td>\n",
       "      <td>Hyderabad,    Bengaluru</td>\n",
       "      <td>Any Postgraduate - Any Specialization</td>\n",
       "      <td>Medical Officer</td>\n",
       "      <td>Medical Professional</td>\n",
       "      <td>INR  3,00,000 - 5,00,000 P.A.</td>\n",
       "      <td>Medical Coder Trainee|Medical Coding Executive...</td>\n",
       "      <td>Any Graduate - Any Specialization</td>\n",
       "    </tr>\n",
       "    <tr>\n",
       "      <th>3</th>\n",
       "      <td>CREDAS SOLUTIONS PRIVATE LIMITED</td>\n",
       "      <td>Doctorate Not Required</td>\n",
       "      <td>Permanent Job, Full Time</td>\n",
       "      <td>6 - 11 yrs</td>\n",
       "      <td>IT Software - Application Programming   ,     ...</td>\n",
       "      <td>IT-Software  /    Software Services</td>\n",
       "      <td>- We have Job opening for Full Stack Developer...</td>\n",
       "      <td>https://www.naukri.com/job-listings-Full-Stack...</td>\n",
       "      <td>Chennai</td>\n",
       "      <td>Any Postgraduate - Any Specialization</td>\n",
       "      <td>Software Developer</td>\n",
       "      <td>Programming &amp; Design</td>\n",
       "      <td>Not Disclosed by Recruiter</td>\n",
       "      <td>Javascript|Java|Node.Js|Angularjs|C|MongoDB|No...</td>\n",
       "      <td>Any Graduate - Any Specialization</td>\n",
       "    </tr>\n",
       "    <tr>\n",
       "      <th>4</th>\n",
       "      <td>Mount Talent Consulting Private Limited</td>\n",
       "      <td>Doctorate Not Required</td>\n",
       "      <td>Permanent Job, Full Time</td>\n",
       "      <td>5 - 10 yrs</td>\n",
       "      <td>HR   ,     Recruitment   ,     Administration ...</td>\n",
       "      <td>IT-Software  /    Software Services</td>\n",
       "      <td>Dear Folks,    We have urgent opening for the ...</td>\n",
       "      <td>https://www.naukri.com/job-listings-Urgent-Ope...</td>\n",
       "      <td>Mumbai</td>\n",
       "      <td>MBA/PGDM - Any Specialization</td>\n",
       "      <td>Pay Roll/Compensation Manager</td>\n",
       "      <td>HR/ Recruitment / IR</td>\n",
       "      <td>Not Disclosed by Recruiter</td>\n",
       "      <td>compensation and benefits|c&amp;b;|compensation|co...</td>\n",
       "      <td>Any Graduate</td>\n",
       "    </tr>\n",
       "  </tbody>\n",
       "</table>\n",
       "</div>"
      ],
      "text/plain": [
       "                                        Company Name               Doctorate  \\\n",
       "0           Sukhvarsha Management Services Pvt. Ltd.  Doctorate Not Required   \n",
       "1  Tyfone Communications Development (India) Pvt....  Doctorate Not Required   \n",
       "2           Sukhvarsha Management Services Pvt. Ltd.  Doctorate Not Required   \n",
       "3                   CREDAS SOLUTIONS PRIVATE LIMITED  Doctorate Not Required   \n",
       "4            Mount Talent Consulting Private Limited  Doctorate Not Required   \n",
       "\n",
       "            Employment Type  Experience  \\\n",
       "0  Permanent Job, Full Time   2 - 4 yrs   \n",
       "1  Permanent Job, Full Time   7 - 9 yrs   \n",
       "2  Permanent Job, Full Time   2 - 4 yrs   \n",
       "3  Permanent Job, Full Time  6 - 11 yrs   \n",
       "4  Permanent Job, Full Time  5 - 10 yrs   \n",
       "\n",
       "                                     Functional Area  \\\n",
       "0  Medical   ,     Healthcare   ,     R&D   ,    ...   \n",
       "1                               IT Software - Mobile   \n",
       "2  Medical   ,     Healthcare   ,     R&D   ,    ...   \n",
       "3  IT Software - Application Programming   ,     ...   \n",
       "4  HR   ,     Recruitment   ,     Administration ...   \n",
       "\n",
       "                                   Industry  \\\n",
       "0  Medical  /    Healthcare  /    Hospitals   \n",
       "1       IT-Software  /    Software Services   \n",
       "2  Medical  /    Healthcare  /    Hospitals   \n",
       "3       IT-Software  /    Software Services   \n",
       "4       IT-Software  /    Software Services   \n",
       "\n",
       "                                     Job Description  \\\n",
       "0  Experience: 2 + years of Experience mandate  C...   \n",
       "1  Job Description  :   1. Develop and maintain T...   \n",
       "2  Experience: 2 + years of Experience mandate  C...   \n",
       "3  - We have Job opening for Full Stack Developer...   \n",
       "4  Dear Folks,    We have urgent opening for the ...   \n",
       "\n",
       "                                                Link                 Location  \\\n",
       "0  https://www.naukri.com/job-listings-Opening-fo...  Bengaluru,    Hyderabad   \n",
       "1  https://www.naukri.com/job-listings-IOS-Develo...                Bengaluru   \n",
       "2  https://www.naukri.com/job-listings-Opening-fo...  Hyderabad,    Bengaluru   \n",
       "3  https://www.naukri.com/job-listings-Full-Stack...                  Chennai   \n",
       "4  https://www.naukri.com/job-listings-Urgent-Ope...                   Mumbai   \n",
       "\n",
       "                                                  PG  \\\n",
       "0              Any Postgraduate - Any Specialization   \n",
       "1  M.Tech - Computers, MCA - Computers, MS/M.Sc(S...   \n",
       "2              Any Postgraduate - Any Specialization   \n",
       "3              Any Postgraduate - Any Specialization   \n",
       "4                      MBA/PGDM - Any Specialization   \n",
       "\n",
       "                            Role         Role Category  \\\n",
       "0                Medical Officer  Medical Professional   \n",
       "1             Software Developer  Programming & Design   \n",
       "2                Medical Officer  Medical Professional   \n",
       "3             Software Developer  Programming & Design   \n",
       "4  Pay Roll/Compensation Manager  HR/ Recruitment / IR   \n",
       "\n",
       "                          Salary  \\\n",
       "0  INR  3,00,000 - 5,00,000 P.A.   \n",
       "1     Not Disclosed by Recruiter   \n",
       "2  INR  3,00,000 - 5,00,000 P.A.   \n",
       "3     Not Disclosed by Recruiter   \n",
       "4     Not Disclosed by Recruiter   \n",
       "\n",
       "                                              Skills  \\\n",
       "0  Medical Coder Trainee|Medical Coding Executive...   \n",
       "1  Objective C|XCode|IPad|Ios Development|IPhone|...   \n",
       "2  Medical Coder Trainee|Medical Coding Executive...   \n",
       "3  Javascript|Java|Node.Js|Angularjs|C|MongoDB|No...   \n",
       "4  compensation and benefits|c&b;|compensation|co...   \n",
       "\n",
       "                                  UG  \n",
       "0  Any Graduate - Any Specialization  \n",
       "1            B.Tech/B.E. - Computers  \n",
       "2  Any Graduate - Any Specialization  \n",
       "3  Any Graduate - Any Specialization  \n",
       "4                       Any Graduate  "
      ]
     },
     "execution_count": 32,
     "metadata": {},
     "output_type": "execute_result"
    }
   ],
   "source": [
    "naukri_df.head()"
   ]
  },
  {
   "cell_type": "code",
   "execution_count": 33,
   "metadata": {},
   "outputs": [
    {
     "data": {
      "text/plain": [
       "(402, 15)"
      ]
     },
     "execution_count": 33,
     "metadata": {},
     "output_type": "execute_result"
    }
   ],
   "source": [
    "naukri_df.shape"
   ]
  },
  {
   "cell_type": "code",
   "execution_count": 35,
   "metadata": {
    "collapsed": true
   },
   "outputs": [],
   "source": [
    "#write it into file for further processing\n",
    "\n",
    "naukri_df.to_csv(\"Naukri_JD.csv\")"
   ]
  },
  {
   "cell_type": "code",
   "execution_count": null,
   "metadata": {
    "collapsed": true
   },
   "outputs": [],
   "source": []
  }
 ],
 "metadata": {
  "kernelspec": {
   "display_name": "Python 2",
   "language": "python",
   "name": "python2"
  },
  "language_info": {
   "codemirror_mode": {
    "name": "ipython",
    "version": 2
   },
   "file_extension": ".py",
   "mimetype": "text/x-python",
   "name": "python",
   "nbconvert_exporter": "python",
   "pygments_lexer": "ipython2",
   "version": "2.7.14"
  }
 },
 "nbformat": 4,
 "nbformat_minor": 2
}
